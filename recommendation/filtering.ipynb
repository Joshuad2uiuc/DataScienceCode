{
 "cells": [
  {
   "cell_type": "code",
   "execution_count": null,
   "metadata": {
    "collapsed": true
   },
   "outputs": [],
   "source": [
    "import pandas as pd\n",
    "import numpy as np"
   ]
  },
  {
   "cell_type": "code",
   "execution_count": null,
   "metadata": {
    "collapsed": false
   },
   "outputs": [],
   "source": [
    "#reading the data from the lastfm data set from https://github.com/algorithmica-repository/datascience\n",
    "data = pd.read_csv(\"lastfm.csv\")"
   ]
  },
  {
   "cell_type": "code",
   "execution_count": null,
   "metadata": {
    "collapsed": false
   },
   "outputs": [],
   "source": [
    "#do not need the sex and country for the purposes in my project\n",
    "del data['sex']\n",
    "del data['country']\n",
    "uniqueArtists = data['artist'].unique()\n",
    "uniqueUsers = data['user'].unique()"
   ]
  },
  {
   "cell_type": "code",
   "execution_count": null,
   "metadata": {
    "collapsed": false
   },
   "outputs": [],
   "source": [
    "'''\n",
    "Looping through the users artists and seeing if they had it in the unique artist. Assigning 1 for yes\n",
    "and 0 for no. \n",
    "'''\n",
    "rows = []\n",
    "for i in uniqueUsers:\n",
    "    user= []\n",
    "    normal = data[data.user == i]['artist'].to_dict() #made a dict of each the user to artist from dataframe\n",
    "    res = dict((v,k) for k,v in normal.iteritems()) #reversed keys and values\n",
    "    for j in uniqueArtists:\n",
    "            if j in res:\n",
    "                user.append(1)\n",
    "            else:\n",
    "                user.append(0)\n",
    "    rows.append(user)"
   ]
  },
  {
   "cell_type": "code",
   "execution_count": null,
   "metadata": {
    "collapsed": false
   },
   "outputs": [],
   "source": [
    "# transposed the matrix because I wanted the Artist at the top and the rows in that column to be\n",
    "# if the user had the artist in their playlist\n",
    "trans = np.array(rows).T"
   ]
  },
  {
   "cell_type": "code",
   "execution_count": null,
   "metadata": {
    "collapsed": false
   },
   "outputs": [],
   "source": [
    "'''\n",
    "Making a dict where artist is the key and the value is a list of the 1s and 0s depending\n",
    "on if the users, first to last, had it in their favorite artists.\n",
    "'''\n",
    "d = {}\n",
    "for i in xrange(len(trans)):\n",
    "    values = []\n",
    "    for j in xrange(len(trans[0])):\n",
    "        values.append(trans[i][j])\n",
    "    d[uniqueArtists[i]] = values\n",
    "    \n",
    "d"
   ]
  },
  {
   "cell_type": "code",
   "execution_count": null,
   "metadata": {
    "collapsed": false
   },
   "outputs": [],
   "source": [
    "df = pd.DataFrame(d)"
   ]
  },
  {
   "cell_type": "code",
   "execution_count": null,
   "metadata": {
    "collapsed": false
   },
   "outputs": [],
   "source": [
    "df.to_csv('matrix.csv')"
   ]
  }
 ],
 "metadata": {
  "kernelspec": {
   "display_name": "Python 2",
   "language": "python",
   "name": "python2"
  },
  "language_info": {
   "codemirror_mode": {
    "name": "ipython",
    "version": 2
   },
   "file_extension": ".py",
   "mimetype": "text/x-python",
   "name": "python",
   "nbconvert_exporter": "python",
   "pygments_lexer": "ipython2",
   "version": "2.7.12"
  }
 },
 "nbformat": 4,
 "nbformat_minor": 1
}
